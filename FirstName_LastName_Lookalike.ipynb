{
 "cells": [
  {
   "cell_type": "markdown",
   "metadata": {},
   "source": [
    "# Lookalike Analysis"
   ]
  },
  {
   "cell_type": "code",
   "execution_count": null,
   "metadata": {},
   "outputs": [],
   "source": [
    "import pandas as pd\n",
    "from sklearn.metrics.pairwise import cosine_similarity\n",
    "from sklearn.preprocessing import StandardScaler\n",
    "\n",
    "# Load the datasets\n",
    "customers = pd.read_csv('./Customers.csv')\n",
    "products = pd.read_csv('./Products.csv')\n",
    "transactions = pd.read_csv('./Transactions.csv')\n",
    "\n",
    "# Aggregating transaction data for each customer\n",
    "customer_transactions = transactions.groupby('CustomerID').agg(\n",
    "    total_spent=('TotalValue', 'sum'),\n",
    "    total_transactions=('TransactionID', 'count')\n",
    ").reset_index()\n",
    "\n",
    "# Merge customer profile with transaction data\n",
    "customer_data = pd.merge(customers, customer_transactions, on='CustomerID')\n",
    "\n",
    "# Feature selection for similarity calculation\n",
    "scaler = StandardScaler()\n",
    "scaled_data = scaler.fit_transform(customer_data[['total_spent', 'total_transactions']])\n",
    "\n",
    "# Compute cosine similarity between customers\n",
    "similarity_matrix = cosine_similarity(scaled_data)\n",
    "\n",
    "# Prepare Lookalike model data\n",
    "lookalike_data = {}\n",
    "\n",
    "# Get top 3 lookalikes for customers C0001 to C0020\n",
    "for i in range(20):\n",
    "    customer_id = customer_data['CustomerID'].iloc[i]\n",
    "    similarities = similarity_matrix[i]\n",
    "    # Get indices of top 3 similar customers (excluding the customer itself)\n",
    "    top_3_indices = similarities.argsort()[-4:-1][::-1]\n",
    "    top_3_customers = [\n",
    "        (customer_data['CustomerID'].iloc[idx], similarities[idx]) for idx in top_3_indices if customer_data['CustomerID'].iloc[idx] != customer_id\n",
    "    ]\n",
    "    lookalike_data[customer_id] = top_3_customers\n",
    "\n",
    "# Convert lookalike data to a DataFrame for saving\n",
    "lookalike_df = pd.DataFrame([\n",
    "    {'CustomerID': cust_id, 'Lookalike': str([f\"{cust_id_} : {score}\" for cust_id_, score in lookalikes])}\n",
    "    for cust_id, lookalikes in lookalike_data.items()\n",
    "])\n",
    "\n",
    "# Save the lookalike data to a CSV file\n",
    "lookalike_df.to_csv('FirstName_LastName_Lookalike.csv', index=False)\n",
    "\n",
    "# Success message\n",
    "print('Lookalike model created and saved as FirstName_LastName_Lookalike.csv.')"
   ]
  }
 ],
 "metadata": {
  "kernelspec": {
   "display_name": "Python 3",
   "language": "python",
   "name": "python3"
  }
 },
 "nbformat": 4,
 "nbformat_minor": 2
}
